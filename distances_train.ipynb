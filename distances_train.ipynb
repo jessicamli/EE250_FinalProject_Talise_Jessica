{
 "cells": [
  {
   "cell_type": "markdown",
   "id": "e7670cdd",
   "metadata": {
    "colab_type": "text",
    "id": "view-in-github"
   },
   "source": [
    "<a href=\"https://colab.research.google.com/github/jessicamli/EE250_FinalProject_Talise_Jessica/blob/main/distances_train.ipynb\" target=\"_parent\"><img src=\"https://colab.research.google.com/assets/colab-badge.svg\" alt=\"Open In Colab\"/></a>"
   ]
  },
  {
   "cell_type": "code",
   "execution_count": 1,
   "id": "B5477WKpAb_t",
   "metadata": {
    "id": "B5477WKpAb_t"
   },
   "outputs": [],
   "source": [
    "# Import necessary libraries\n",
    "import pickle\n",
    "import numpy as np\n",
    "import pandas as pd\n",
    "from matplotlib import pyplot as plt\n",
    "plt.rcParams['figure.figsize'] = (10,7)\n",
    "import seaborn as sns\n",
    "from sklearn.model_selection import train_test_split\n",
    "from sklearn.preprocessing import StandardScaler\n",
    "import tensorflow as tf\n",
    "from tensorflow.keras import Sequential\n",
    "from tensorflow.keras.layers import Dense\n",
    "from tensorflow.keras.optimizers import Adam\n",
    "from tensorflow.keras.callbacks import EarlyStopping\n",
    "from tensorflow.keras.models import load_model\n",
    "\n",
    "from tensorflow.keras.utils import to_categorical"
   ]
  },
  {
   "cell_type": "code",
   "execution_count": 3,
   "id": "8j8zUWphAiXS",
   "metadata": {
    "colab": {
     "base_uri": "https://localhost:8080/",
     "height": 363
    },
    "id": "8j8zUWphAiXS",
    "outputId": "651634e2-3f67-474d-dd5f-7802d80a1794"
   },
   "outputs": [
    {
     "data": {
      "application/vnd.google.colaboratory.intrinsic+json": {
       "summary": "{\n  \"name\": \"distances\",\n  \"rows\": 10,\n  \"fields\": [\n    {\n      \"column\": \"dist1\",\n      \"properties\": {\n        \"dtype\": \"number\",\n        \"std\": 1,\n        \"min\": 7,\n        \"max\": 12,\n        \"num_unique_values\": 5,\n        \"samples\": [\n          12,\n          9,\n          11\n        ],\n        \"semantic_type\": \"\",\n        \"description\": \"\"\n      }\n    },\n    {\n      \"column\": \"dist2\",\n      \"properties\": {\n        \"dtype\": \"number\",\n        \"std\": 1,\n        \"min\": 8,\n        \"max\": 13,\n        \"num_unique_values\": 5,\n        \"samples\": [\n          8,\n          13,\n          11\n        ],\n        \"semantic_type\": \"\",\n        \"description\": \"\"\n      }\n    },\n    {\n      \"column\": \"location\",\n      \"properties\": {\n        \"dtype\": \"number\",\n        \"std\": 0,\n        \"min\": 4,\n        \"max\": 4,\n        \"num_unique_values\": 1,\n        \"samples\": [\n          4\n        ],\n        \"semantic_type\": \"\",\n        \"description\": \"\"\n      }\n    }\n  ]\n}",
       "type": "dataframe"
      },
      "text/html": [
       "\n",
       "  <div id=\"df-759fcc68-842f-4ef0-bf3d-72c583607ef4\" class=\"colab-df-container\">\n",
       "    <div>\n",
       "<style scoped>\n",
       "    .dataframe tbody tr th:only-of-type {\n",
       "        vertical-align: middle;\n",
       "    }\n",
       "\n",
       "    .dataframe tbody tr th {\n",
       "        vertical-align: top;\n",
       "    }\n",
       "\n",
       "    .dataframe thead th {\n",
       "        text-align: right;\n",
       "    }\n",
       "</style>\n",
       "<table border=\"1\" class=\"dataframe\">\n",
       "  <thead>\n",
       "    <tr style=\"text-align: right;\">\n",
       "      <th></th>\n",
       "      <th>dist1</th>\n",
       "      <th>dist2</th>\n",
       "      <th>location</th>\n",
       "    </tr>\n",
       "  </thead>\n",
       "  <tbody>\n",
       "    <tr>\n",
       "      <th>50</th>\n",
       "      <td>10</td>\n",
       "      <td>9</td>\n",
       "      <td>4</td>\n",
       "    </tr>\n",
       "    <tr>\n",
       "      <th>51</th>\n",
       "      <td>12</td>\n",
       "      <td>8</td>\n",
       "      <td>4</td>\n",
       "    </tr>\n",
       "    <tr>\n",
       "      <th>52</th>\n",
       "      <td>11</td>\n",
       "      <td>11</td>\n",
       "      <td>4</td>\n",
       "    </tr>\n",
       "    <tr>\n",
       "      <th>53</th>\n",
       "      <td>7</td>\n",
       "      <td>9</td>\n",
       "      <td>4</td>\n",
       "    </tr>\n",
       "    <tr>\n",
       "      <th>54</th>\n",
       "      <td>9</td>\n",
       "      <td>9</td>\n",
       "      <td>4</td>\n",
       "    </tr>\n",
       "    <tr>\n",
       "      <th>55</th>\n",
       "      <td>10</td>\n",
       "      <td>8</td>\n",
       "      <td>4</td>\n",
       "    </tr>\n",
       "    <tr>\n",
       "      <th>56</th>\n",
       "      <td>11</td>\n",
       "      <td>8</td>\n",
       "      <td>4</td>\n",
       "    </tr>\n",
       "    <tr>\n",
       "      <th>57</th>\n",
       "      <td>10</td>\n",
       "      <td>10</td>\n",
       "      <td>4</td>\n",
       "    </tr>\n",
       "    <tr>\n",
       "      <th>58</th>\n",
       "      <td>12</td>\n",
       "      <td>9</td>\n",
       "      <td>4</td>\n",
       "    </tr>\n",
       "    <tr>\n",
       "      <th>59</th>\n",
       "      <td>11</td>\n",
       "      <td>13</td>\n",
       "      <td>4</td>\n",
       "    </tr>\n",
       "  </tbody>\n",
       "</table>\n",
       "</div>\n",
       "    <div class=\"colab-df-buttons\">\n",
       "\n",
       "  <div class=\"colab-df-container\">\n",
       "    <button class=\"colab-df-convert\" onclick=\"convertToInteractive('df-759fcc68-842f-4ef0-bf3d-72c583607ef4')\"\n",
       "            title=\"Convert this dataframe to an interactive table.\"\n",
       "            style=\"display:none;\">\n",
       "\n",
       "  <svg xmlns=\"http://www.w3.org/2000/svg\" height=\"24px\" viewBox=\"0 -960 960 960\">\n",
       "    <path d=\"M120-120v-720h720v720H120Zm60-500h600v-160H180v160Zm220 220h160v-160H400v160Zm0 220h160v-160H400v160ZM180-400h160v-160H180v160Zm440 0h160v-160H620v160ZM180-180h160v-160H180v160Zm440 0h160v-160H620v160Z\"/>\n",
       "  </svg>\n",
       "    </button>\n",
       "\n",
       "  <style>\n",
       "    .colab-df-container {\n",
       "      display:flex;\n",
       "      gap: 12px;\n",
       "    }\n",
       "\n",
       "    .colab-df-convert {\n",
       "      background-color: #E8F0FE;\n",
       "      border: none;\n",
       "      border-radius: 50%;\n",
       "      cursor: pointer;\n",
       "      display: none;\n",
       "      fill: #1967D2;\n",
       "      height: 32px;\n",
       "      padding: 0 0 0 0;\n",
       "      width: 32px;\n",
       "    }\n",
       "\n",
       "    .colab-df-convert:hover {\n",
       "      background-color: #E2EBFA;\n",
       "      box-shadow: 0px 1px 2px rgba(60, 64, 67, 0.3), 0px 1px 3px 1px rgba(60, 64, 67, 0.15);\n",
       "      fill: #174EA6;\n",
       "    }\n",
       "\n",
       "    .colab-df-buttons div {\n",
       "      margin-bottom: 4px;\n",
       "    }\n",
       "\n",
       "    [theme=dark] .colab-df-convert {\n",
       "      background-color: #3B4455;\n",
       "      fill: #D2E3FC;\n",
       "    }\n",
       "\n",
       "    [theme=dark] .colab-df-convert:hover {\n",
       "      background-color: #434B5C;\n",
       "      box-shadow: 0px 1px 3px 1px rgba(0, 0, 0, 0.15);\n",
       "      filter: drop-shadow(0px 1px 2px rgba(0, 0, 0, 0.3));\n",
       "      fill: #FFFFFF;\n",
       "    }\n",
       "  </style>\n",
       "\n",
       "    <script>\n",
       "      const buttonEl =\n",
       "        document.querySelector('#df-759fcc68-842f-4ef0-bf3d-72c583607ef4 button.colab-df-convert');\n",
       "      buttonEl.style.display =\n",
       "        google.colab.kernel.accessAllowed ? 'block' : 'none';\n",
       "\n",
       "      async function convertToInteractive(key) {\n",
       "        const element = document.querySelector('#df-759fcc68-842f-4ef0-bf3d-72c583607ef4');\n",
       "        const dataTable =\n",
       "          await google.colab.kernel.invokeFunction('convertToInteractive',\n",
       "                                                    [key], {});\n",
       "        if (!dataTable) return;\n",
       "\n",
       "        const docLinkHtml = 'Like what you see? Visit the ' +\n",
       "          '<a target=\"_blank\" href=https://colab.research.google.com/notebooks/data_table.ipynb>data table notebook</a>'\n",
       "          + ' to learn more about interactive tables.';\n",
       "        element.innerHTML = '';\n",
       "        dataTable['output_type'] = 'display_data';\n",
       "        await google.colab.output.renderOutput(dataTable, element);\n",
       "        const docLink = document.createElement('div');\n",
       "        docLink.innerHTML = docLinkHtml;\n",
       "        element.appendChild(docLink);\n",
       "      }\n",
       "    </script>\n",
       "  </div>\n",
       "\n",
       "\n",
       "<div id=\"df-7b8ad652-b7f5-4097-afaf-a5d93abd0d04\">\n",
       "  <button class=\"colab-df-quickchart\" onclick=\"quickchart('df-7b8ad652-b7f5-4097-afaf-a5d93abd0d04')\"\n",
       "            title=\"Suggest charts\"\n",
       "            style=\"display:none;\">\n",
       "\n",
       "<svg xmlns=\"http://www.w3.org/2000/svg\" height=\"24px\"viewBox=\"0 0 24 24\"\n",
       "     width=\"24px\">\n",
       "    <g>\n",
       "        <path d=\"M19 3H5c-1.1 0-2 .9-2 2v14c0 1.1.9 2 2 2h14c1.1 0 2-.9 2-2V5c0-1.1-.9-2-2-2zM9 17H7v-7h2v7zm4 0h-2V7h2v10zm4 0h-2v-4h2v4z\"/>\n",
       "    </g>\n",
       "</svg>\n",
       "  </button>\n",
       "\n",
       "<style>\n",
       "  .colab-df-quickchart {\n",
       "      --bg-color: #E8F0FE;\n",
       "      --fill-color: #1967D2;\n",
       "      --hover-bg-color: #E2EBFA;\n",
       "      --hover-fill-color: #174EA6;\n",
       "      --disabled-fill-color: #AAA;\n",
       "      --disabled-bg-color: #DDD;\n",
       "  }\n",
       "\n",
       "  [theme=dark] .colab-df-quickchart {\n",
       "      --bg-color: #3B4455;\n",
       "      --fill-color: #D2E3FC;\n",
       "      --hover-bg-color: #434B5C;\n",
       "      --hover-fill-color: #FFFFFF;\n",
       "      --disabled-bg-color: #3B4455;\n",
       "      --disabled-fill-color: #666;\n",
       "  }\n",
       "\n",
       "  .colab-df-quickchart {\n",
       "    background-color: var(--bg-color);\n",
       "    border: none;\n",
       "    border-radius: 50%;\n",
       "    cursor: pointer;\n",
       "    display: none;\n",
       "    fill: var(--fill-color);\n",
       "    height: 32px;\n",
       "    padding: 0;\n",
       "    width: 32px;\n",
       "  }\n",
       "\n",
       "  .colab-df-quickchart:hover {\n",
       "    background-color: var(--hover-bg-color);\n",
       "    box-shadow: 0 1px 2px rgba(60, 64, 67, 0.3), 0 1px 3px 1px rgba(60, 64, 67, 0.15);\n",
       "    fill: var(--button-hover-fill-color);\n",
       "  }\n",
       "\n",
       "  .colab-df-quickchart-complete:disabled,\n",
       "  .colab-df-quickchart-complete:disabled:hover {\n",
       "    background-color: var(--disabled-bg-color);\n",
       "    fill: var(--disabled-fill-color);\n",
       "    box-shadow: none;\n",
       "  }\n",
       "\n",
       "  .colab-df-spinner {\n",
       "    border: 2px solid var(--fill-color);\n",
       "    border-color: transparent;\n",
       "    border-bottom-color: var(--fill-color);\n",
       "    animation:\n",
       "      spin 1s steps(1) infinite;\n",
       "  }\n",
       "\n",
       "  @keyframes spin {\n",
       "    0% {\n",
       "      border-color: transparent;\n",
       "      border-bottom-color: var(--fill-color);\n",
       "      border-left-color: var(--fill-color);\n",
       "    }\n",
       "    20% {\n",
       "      border-color: transparent;\n",
       "      border-left-color: var(--fill-color);\n",
       "      border-top-color: var(--fill-color);\n",
       "    }\n",
       "    30% {\n",
       "      border-color: transparent;\n",
       "      border-left-color: var(--fill-color);\n",
       "      border-top-color: var(--fill-color);\n",
       "      border-right-color: var(--fill-color);\n",
       "    }\n",
       "    40% {\n",
       "      border-color: transparent;\n",
       "      border-right-color: var(--fill-color);\n",
       "      border-top-color: var(--fill-color);\n",
       "    }\n",
       "    60% {\n",
       "      border-color: transparent;\n",
       "      border-right-color: var(--fill-color);\n",
       "    }\n",
       "    80% {\n",
       "      border-color: transparent;\n",
       "      border-right-color: var(--fill-color);\n",
       "      border-bottom-color: var(--fill-color);\n",
       "    }\n",
       "    90% {\n",
       "      border-color: transparent;\n",
       "      border-bottom-color: var(--fill-color);\n",
       "    }\n",
       "  }\n",
       "</style>\n",
       "\n",
       "  <script>\n",
       "    async function quickchart(key) {\n",
       "      const quickchartButtonEl =\n",
       "        document.querySelector('#' + key + ' button');\n",
       "      quickchartButtonEl.disabled = true;  // To prevent multiple clicks.\n",
       "      quickchartButtonEl.classList.add('colab-df-spinner');\n",
       "      try {\n",
       "        const charts = await google.colab.kernel.invokeFunction(\n",
       "            'suggestCharts', [key], {});\n",
       "      } catch (error) {\n",
       "        console.error('Error during call to suggestCharts:', error);\n",
       "      }\n",
       "      quickchartButtonEl.classList.remove('colab-df-spinner');\n",
       "      quickchartButtonEl.classList.add('colab-df-quickchart-complete');\n",
       "    }\n",
       "    (() => {\n",
       "      let quickchartButtonEl =\n",
       "        document.querySelector('#df-7b8ad652-b7f5-4097-afaf-a5d93abd0d04 button');\n",
       "      quickchartButtonEl.style.display =\n",
       "        google.colab.kernel.accessAllowed ? 'block' : 'none';\n",
       "    })();\n",
       "  </script>\n",
       "</div>\n",
       "\n",
       "    </div>\n",
       "  </div>\n"
      ],
      "text/plain": [
       "    dist1  dist2  location\n",
       "50     10      9         4\n",
       "51     12      8         4\n",
       "52     11     11         4\n",
       "53      7      9         4\n",
       "54      9      9         4\n",
       "55     10      8         4\n",
       "56     11      8         4\n",
       "57     10     10         4\n",
       "58     12      9         4\n",
       "59     11     13         4"
      ]
     },
     "execution_count": 3,
     "metadata": {},
     "output_type": "execute_result"
    }
   ],
   "source": [
    "# Load the dataset 'distances.csv' using pandas' read_csv function.\n",
    "#distances = pd.read_csv('C:\\Users\\jessi\\EE250_FinalProject_Talise_Jessica\\distances.csv')\n",
    "distances = pd.read_csv('distances.csv')\n",
    "distances.tail(10)"
   ]
  },
  {
   "cell_type": "code",
   "execution_count": 4,
   "id": "Ge6ykGIBAjB5",
   "metadata": {
    "colab": {
     "base_uri": "https://localhost:8080/",
     "height": 641
    },
    "id": "Ge6ykGIBAjB5",
    "outputId": "f584391b-0b68-45f7-8d06-c4ca5d06961f"
   },
   "outputs": [
    {
     "data": {
      "image/png": "[encoded data removed]",
      "text/plain": [
       "<Figure size 1000x700 with 1 Axes>"
      ]
     },
     "metadata": {},
     "output_type": "display_data"
    }
   ],
   "source": [
    "# Visualize the data distribution using a scatterplot\n",
    "sns.scatterplot(x=\"dist1\", y=\"dist2\", data=distances, hue=\"location\")\n",
    "plt.title(\"Scatterplot of Distances and Locations\")\n",
    "plt.show()"
   ]
  },
  {
   "cell_type": "code",
   "execution_count": 5,
   "id": "Xihkq4n3AwhB",
   "metadata": {
    "id": "Xihkq4n3AwhB"
   },
   "outputs": [],
   "source": [
    "# [STUDENT SECTION: Prepare the data for training and testing]\n",
    "# 1. Data Preparation:\n",
    "# Prepare the input features (X)\n",
    "\n",
    "# NOTE: ADDED BELOW -- NOT TOTALLY SURE WHY IT WORKS THO TBH\n",
    "distances[\"location\"] = distances[\"location\"] - distances[\"location\"].min()\n",
    "\n",
    "X = distances[[\"dist1\", \"dist2\"]].to_numpy()\n",
    "\n",
    "# Convert the denomination values (1 and 2) to binary labels (0 and 1) for binary classification.\n",
    "# Hint: Subtract 1 from the denomination values to convert them to 0 and 1.\n",
    "y = distances[[\"location\"]].to_numpy() # Change this\n",
    "\n",
    "#y = y - 1\n",
    "y = to_categorical(y)   # COnverts to one-hot encoding\n",
    "\n",
    "# Split the data into training and testing sets using train_test_split.\n",
    "# Use an 80/20 split for training and testing and random_state of 42.\n",
    "X_train, X_test, y_train, y_test = train_test_split(X, y, test_size=0.2, random_state=42) # Set the arguments for train_test_split\n",
    "\n",
    "# Normalize the input test and train features using StandardScaler to standardize reflectance and weight values.\n",
    "scaler = StandardScaler()\n",
    "# Use the scaler's fit_transform and transform methods to standardize the training and testing features.\n",
    "#  (See https://towardsdatascience.com/what-and-why-behind-fit-transform-vs-transform-in-scikit-learn-78f915cf96fe)\n",
    "X_train = scaler.fit_transform(X_train)\n",
    "X_test = scaler.transform(X_test)\n",
    "\n"
   ]
  },
  {
   "cell_type": "code",
   "execution_count": 37,
   "id": "YhiFLmG9A1EG",
   "metadata": {
    "colab": {
     "base_uri": "https://localhost:8080/"
    },
    "id": "YhiFLmG9A1EG",
    "outputId": "ca5a9a5e-3c48-4be5-9e41-24c50756eda0"
   },
   "outputs": [
    {
     "name": "stdout",
     "output_type": "stream",
     "text": [
      "[2 0 1 3]\n",
      "Number of unique classes: 4\n",
      "Epoch 1/100\n",
      "\u001b[1m3/3\u001b[0m \u001b[32m━━━━━━━━━━━━━━━━━━━━\u001b[0m\u001b[37m\u001b[0m \u001b[1m4s\u001b[0m 583ms/step - accuracy: 0.2020 - loss: 1.3884 - val_accuracy: 0.4000 - val_loss: 1.1794\n",
      "Epoch 2/100\n",
      "\u001b[1m3/3\u001b[0m \u001b[32m━━━━━━━━━━━━━━━━━━━━\u001b[0m\u001b[37m\u001b[0m \u001b[1m0s\u001b[0m 60ms/step - accuracy: 0.5529 - loss: 1.1748 - val_accuracy: 0.4000 - val_loss: 1.0995\n",
      "Epoch 3/100\n",
      "\u001b[1m3/3\u001b[0m \u001b[32m━━━━━━━━━━━━━━━━━━━━\u001b[0m\u001b[37m\u001b[0m \u001b[1m0s\u001b[0m 76ms/step - accuracy: 0.4786 - loss: 1.0889 - val_accuracy: 0.4000 - val_loss: 0.9906\n",
      "Epoch 4/100\n",
      "\u001b[1m3/3\u001b[0m \u001b[32m━━━━━━━━━━━━━━━━━━━━\u001b[0m\u001b[37m\u001b[0m \u001b[1m0s\u001b[0m 57ms/step - accuracy: 0.5293 - loss: 1.0109 - val_accuracy: 0.4000 - val_loss: 0.8996\n",
      "Epoch 5/100\n",
      "\u001b[1m3/3\u001b[0m \u001b[32m━━━━━━━━━━━━━━━━━━━━\u001b[0m\u001b[37m\u001b[0m \u001b[1m0s\u001b[0m 74ms/step - accuracy: 0.5134 - loss: 1.0271 - val_accuracy: 0.8000 - val_loss: 0.7847\n",
      "Epoch 6/100\n",
      "\u001b[1m3/3\u001b[0m \u001b[32m━━━━━━━━━━━━━━━━━━━━\u001b[0m\u001b[37m\u001b[0m \u001b[1m1s\u001b[0m 86ms/step - accuracy: 0.6108 - loss: 0.9404 - val_accuracy: 0.8000 - val_loss: 0.7402\n",
      "Epoch 7/100\n",
      "\u001b[1m3/3\u001b[0m \u001b[32m━━━━━━━━━━━━━━━━━━━━\u001b[0m\u001b[37m\u001b[0m \u001b[1m0s\u001b[0m 83ms/step - accuracy: 0.6928 - loss: 0.7893 - val_accuracy: 0.8000 - val_loss: 0.7467\n",
      "Epoch 8/100\n",
      "\u001b[1m3/3\u001b[0m \u001b[32m━━━━━━━━━━━━━━━━━━━━\u001b[0m\u001b[37m\u001b[0m \u001b[1m0s\u001b[0m 82ms/step - accuracy: 0.7278 - loss: 0.7489 - val_accuracy: 0.8000 - val_loss: 0.7142\n",
      "Epoch 9/100\n",
      "\u001b[1m3/3\u001b[0m \u001b[32m━━━━━━━━━━━━━━━━━━━━\u001b[0m\u001b[37m\u001b[0m \u001b[1m1s\u001b[0m 83ms/step - accuracy: 0.6731 - loss: 0.7699 - val_accuracy: 0.8000 - val_loss: 0.6847\n",
      "Epoch 10/100\n",
      "\u001b[1m3/3\u001b[0m \u001b[32m━━━━━━━━━━━━━━━━━━━━\u001b[0m\u001b[37m\u001b[0m \u001b[1m0s\u001b[0m 76ms/step - accuracy: 0.7355 - loss: 0.6608 - val_accuracy: 0.8000 - val_loss: 0.6269\n",
      "Epoch 11/100\n",
      "\u001b[1m3/3\u001b[0m \u001b[32m━━━━━━━━━━━━━━━━━━━━\u001b[0m\u001b[37m\u001b[0m \u001b[1m0s\u001b[0m 101ms/step - accuracy: 0.8018 - loss: 0.6209 - val_accuracy: 0.8000 - val_loss: 0.6635\n",
      "Epoch 12/100\n",
      "\u001b[1m3/3\u001b[0m \u001b[32m━━━━━━━━━━━━━━━━━━━━\u001b[0m\u001b[37m\u001b[0m \u001b[1m1s\u001b[0m 63ms/step - accuracy: 0.7471 - loss: 0.6396 - val_accuracy: 0.8000 - val_loss: 0.6278\n",
      "Epoch 13/100\n",
      "\u001b[1m3/3\u001b[0m \u001b[32m━━━━━━━━━━━━━━━━━━━━\u001b[0m\u001b[37m\u001b[0m \u001b[1m0s\u001b[0m 37ms/step - accuracy: 0.7587 - loss: 0.6403 - val_accuracy: 0.8000 - val_loss: 0.7234\n",
      "Epoch 14/100\n",
      "\u001b[1m3/3\u001b[0m \u001b[32m━━━━━━━━━━━━━━━━━━━━\u001b[0m\u001b[37m\u001b[0m \u001b[1m0s\u001b[0m 29ms/step - accuracy: 0.7395 - loss: 0.5962 - val_accuracy: 0.8000 - val_loss: 0.8732\n",
      "Epoch 15/100\n",
      "\u001b[1m3/3\u001b[0m \u001b[32m━━━━━━━━━━━━━━━━━━━━\u001b[0m\u001b[37m\u001b[0m \u001b[1m0s\u001b[0m 51ms/step - accuracy: 0.7198 - loss: 0.6259 - val_accuracy: 0.8000 - val_loss: 0.7665\n",
      "Epoch 16/100\n",
      "\u001b[1m3/3\u001b[0m \u001b[32m━━━━━━━━━━━━━━━━━━━━\u001b[0m\u001b[37m\u001b[0m \u001b[1m0s\u001b[0m 34ms/step - accuracy: 0.7902 - loss: 0.5140 - val_accuracy: 0.8000 - val_loss: 0.7497\n",
      "Epoch 17/100\n",
      "\u001b[1m3/3\u001b[0m \u001b[32m━━━━━━━━━━━━━━━━━━━━\u001b[0m\u001b[37m\u001b[0m \u001b[1m0s\u001b[0m 42ms/step - accuracy: 0.7277 - loss: 0.5961 - val_accuracy: 0.8000 - val_loss: 0.7830\n",
      "Epoch 18/100\n",
      "\u001b[1m3/3\u001b[0m \u001b[32m━━━━━━━━━━━━━━━━━━━━\u001b[0m\u001b[37m\u001b[0m \u001b[1m0s\u001b[0m 32ms/step - accuracy: 0.6613 - loss: 0.5854 - val_accuracy: 0.8000 - val_loss: 0.8606\n",
      "Epoch 19/100\n",
      "\u001b[1m3/3\u001b[0m \u001b[32m━━━━━━━━━━━━━━━━━━━━\u001b[0m\u001b[37m\u001b[0m \u001b[1m0s\u001b[0m 94ms/step - accuracy: 0.7120 - loss: 0.5575 - val_accuracy: 0.8000 - val_loss: 0.8084\n",
      "Epoch 20/100\n",
      "\u001b[1m3/3\u001b[0m \u001b[32m━━━━━━━━━━━━━━━━━━━━\u001b[0m\u001b[37m\u001b[0m \u001b[1m0s\u001b[0m 23ms/step - accuracy: 0.7705 - loss: 0.5141 - val_accuracy: 0.8000 - val_loss: 0.8068\n"
     ]
    },
    {
     "data": {
      "text/plain": [
       "<keras.src.callbacks.history.History at 0x7abeb70e3400>"
      ]
     },
     "execution_count": 37,
     "metadata": {},
     "output_type": "execute_result"
    }
   ],
   "source": [
    "# NOTE: NOT ENTIRELY SURE WHY THE BELOW ORDER WORKS [2 0 1 3]\n",
    "print(distances[\"location\"].unique())\n",
    "print(f\"Number of unique classes: {len(distances['location'].unique())}\")\n",
    "\n",
    "# [STUDENT SECTION: Define and compile the model]\n",
    "# 2. Instantiate and Train the Model\n",
    "# - Build a neural network model using TensorFlow/Keras.\n",
    "# - The model should have:\n",
    "#    - An input layer with 2 input features (reflectance and weight).\n",
    "#    - 1 or 2 hidden layers with the number of neurons at your discretion (use 'relu' activation).\n",
    "#      (Experiment to find the best accuracy)\n",
    "#    - An output layer with 1 neuron and 'sigmoid' activation for binary classification.\n",
    "model = Sequential()\n",
    "model.add(Dense(64, activation='relu', input_shape=(2,)))\n",
    "model.add(Dense(64, activation='relu'))\n",
    "model.add(Dense(4, activation='softmax')) # Output layer with 4 neurons for 4 classes\n",
    "\n",
    "# - Compile the model using Adam optimizer with a learning rate of 0.001,\n",
    "#   binary_crossentropy as the loss function, and 'accuracy' as the metric.\n",
    "# Changed from binary to categorical\n",
    "model.compile(optimizer=Adam(learning_rate=0.01), loss='categorical_crossentropy', metrics=['accuracy'])\n",
    "\n",
    "\n",
    "# - Train the model using X_train and y_train.\n",
    "#    - Set validation_split to 0.2.\n",
    "#    - Use EarlyStopping with patience=5 to prevent overfitting.\n",
    "#    - Train the model for 100 epochs and use a batch size of 32.\n",
    "early_stopping = EarlyStopping(monitor='val_loss', patience=10)\n",
    "# call the appropriate function to train the model\n",
    "model.fit(X_train, y_train, epochs=100, batch_size=16, validation_split=0.1, callbacks=[early_stopping], verbose=1)\n"
   ]
  },
  {
   "cell_type": "markdown",
   "id": "ul-aEjVGKs-F",
   "metadata": {
    "id": "ul-aEjVGKs-F"
   },
   "source": [
    "**#experiement with the accuracy if used only 1 middle layer vs. 2 and so on**"
   ]
  },
  {
   "cell_type": "code",
   "execution_count": 39,
   "id": "E40g64bOA6Y_",
   "metadata": {
    "colab": {
     "base_uri": "https://localhost:8080/"
    },
    "id": "E40g64bOA6Y_",
    "outputId": "ac39333d-49d8-4940-e3f0-5dcc9eee2450"
   },
   "outputs": [
    {
     "name": "stdout",
     "output_type": "stream",
     "text": [
      "\u001b[1m1/1\u001b[0m \u001b[32m━━━━━━━━━━━━━━━━━━━━\u001b[0m\u001b[37m\u001b[0m \u001b[1m0s\u001b[0m 36ms/step - accuracy: 0.7500 - loss: 0.8854\n",
      "Accuracy = 75.00\n"
     ]
    }
   ],
   "source": [
    "# [STUDENT SECTION: Evaluate the model]\n",
    "# Hint:\n",
    "# - Call model.evaluate() on the test set (X_test, y_test) and print the test accuracy.\n",
    "loss, accuracy = model.evaluate(X_test, y_test)\n",
    "print('Accuracy = %.2f' %(accuracy*100))"
   ]
  },
  {
   "cell_type": "code",
   "execution_count": 40,
   "id": "lS5QJfu3A-Z4",
   "metadata": {
    "colab": {
     "base_uri": "https://localhost:8080/",
     "height": 659
    },
    "id": "lS5QJfu3A-Z4",
    "outputId": "4054737b-98dc-4862-b09a-b29393595cd0"
   },
   "outputs": [
    {
     "name": "stdout",
     "output_type": "stream",
     "text": [
      "\u001b[1m177/177\u001b[0m \u001b[32m━━━━━━━━━━━━━━━━━━━━\u001b[0m\u001b[37m\u001b[0m \u001b[1m0s\u001b[0m 1ms/step\n"
     ]
    },
    {
     "data": {
      "image/png": "[encoded data removed]",
      "text/plain": [
       "<Figure size 1000x700 with 1 Axes>"
      ]
     },
     "metadata": {},
     "output_type": "display_data"
    }
   ],
   "source": [
    "# 4. Plot the Decision Boundary:\n",
    "# - Define a function to plot the decision boundary of the trained model. This function should take in the feature matrix X, the labels y, and the trained model.\n",
    "# - This function should:\n",
    "#    - Generate a mesh grid over the feature space (reflectance and weight).\n",
    "#    - Use the model to predict labels for each point in the mesh grid.\n",
    "#    - Plot the decision boundary using contourf.\n",
    "#    - Overlay the training data points using seaborn's scatterplot.\n",
    "def plot_decision_boundary(X, y, model):\n",
    "    x_min, x_max = X[:, 0].min() - 1, X[:, 0].max() + 1\n",
    "    y_min, y_max = X[:, 1].min() - 1, X[:, 1].max() + 1\n",
    "    xx, yy = np.meshgrid(np.arange(x_min, x_max, 0.1), np.arange(y_min, y_max, 0.1))\n",
    "    Z = model.predict(np.c_[xx.ravel(), yy.ravel()])\n",
    "\n",
    "    # Convert probabilities into class predictions by getting index of max probability and reshaping to match the grid shape\n",
    "    Z = np.argmax(Z, axis=1)\n",
    "    Z = Z.reshape(xx.shape)\n",
    "\n",
    "    plt.contourf(xx, yy, Z, alpha=0.4, cmap=plt.cm.coolwarm)\n",
    "    sns.scatterplot(x=X[:, 0], y=X[:, 1], hue=np.argmax(y, axis=1), palette='bright', edgecolor=\"k\")\n",
    "\n",
    "    plt.xlabel('Distance 1')\n",
    "    plt.ylabel('Distance 2')\n",
    "    plt.title('Decision Boundary of the Multi-Class Classifier')\n",
    "    plt.show()\n",
    "\n",
    "\n",
    "# [STUDENT SECTION: Call the function to plot the decision boundary by passing the correct arguments]\n",
    "plot_decision_boundary(X_train, y_train, model)\n",
    "\n",
    "\n"
   ]
  },
  {
   "cell_type": "code",
   "execution_count": 41,
   "id": "WacbNOMU88ye",
   "metadata": {
    "colab": {
     "base_uri": "https://localhost:8080/"
    },
    "id": "WacbNOMU88ye",
    "outputId": "b9f1c126-00f9-4940-de02-7518d1a88319"
   },
   "outputs": [
    {
     "name": "stderr",
     "output_type": "stream",
     "text": [
      "WARNING:absl:You are saving your model as an HDF5 file via `model.save()` or `keras.saving.save_model(model)`. This file format is considered legacy. We recommend using instead the native Keras format, e.g. `model.save('my_model.keras')` or `keras.saving.save_model(model, 'my_model.keras')`. \n",
      "WARNING:absl:Compiled the loaded model, but the compiled metrics have yet to be built. `model.compile_metrics` will be empty until you train or evaluate the model.\n"
     ]
    },
    {
     "name": "stdout",
     "output_type": "stream",
     "text": [
      "\u001b[1m1/1\u001b[0m \u001b[32m━━━━━━━━━━━━━━━━━━━━\u001b[0m\u001b[37m\u001b[0m \u001b[1m0s\u001b[0m 364ms/step - accuracy: 0.7500 - loss: 0.8854\n",
      "Accuracy = 75.00\n"
     ]
    }
   ],
   "source": [
    "# 5. Save the Trained Model:\n",
    "# - Save the trained model to a file named 'model.h5' using model.save().\n",
    "model.save('distmodel.h5')\n",
    "\n",
    "# [STUDENT SECTION: Save the model]\n",
    "\n",
    "# 6. Load the Saved Model and Use it to evalue the \"test\" data:\n",
    "# - Load the model using keras.models.load_model and re-evaluate it on the test data.\n",
    "new_model = load_model('distmodel.h5')\n",
    "\n",
    "\n",
    "test_loss, test_accuracy = new_model.evaluate(X_test, y_test)\n",
    "print('Accuracy = %.2f' %(test_accuracy*100))\n"
   ]
  },
  {
   "cell_type": "code",
   "execution_count": 42,
   "id": "eNMx7pSK_-TZ",
   "metadata": {
    "colab": {
     "base_uri": "https://localhost:8080/"
    },
    "id": "eNMx7pSK_-TZ",
    "outputId": "8da10ba9-6f89-4b3d-e1e8-d8ab6ed2f367"
   },
   "outputs": [
    {
     "name": "stdout",
     "output_type": "stream",
     "text": [
      "\u001b[1m1/1\u001b[0m \u001b[32m━━━━━━━━━━━━━━━━━━━━\u001b[0m\u001b[37m\u001b[0m \u001b[1m0s\u001b[0m 48ms/step\n",
      "Accuracy = 75.00\n"
     ]
    }
   ],
   "source": [
    "# 7. [STUDENT SECTION: Evaluate the loaded model on the test data]\n",
    "# the accuracy of the loaded model on the test data.  Examine the output\n",
    "# of predict and think about how to compute the accuracy of the predictions using\n",
    "# the y_test data.  Hint:  You may need to round the predictions to 0 or 1 using np.round()\n",
    "# When you use model.predict() in a binary classification problem, the output is usually\n",
    "# a 2D array where each element is a list containing a single predicted probability\n",
    "# (e.g., [[0.1], [0.9], [0.3], ...]). To compare these predictions to your 1D y_test array\n",
    "# (e.g., [0, 1, 0, ...]), you need to \"flatten()\" the 2D array into a 1D array.\n",
    "\n",
    "\n",
    "# print the accuracy of the loaded model on the test data\n",
    "\n",
    "# Evaluate the model on the test data using predict\n",
    "predictions = new_model.predict(X_test)\n",
    "predictions = np.argmax(predictions, axis=1)\n",
    "\n",
    "#predictions = predictions.flatten()\n",
    "y_test_flat = np.argmax(y_test, axis=1)\n",
    "\n",
    "# count how many are wrong\n",
    "count = 0\n",
    "for i in range(len(predictions)):\n",
    "    if predictions[i] != y_test_flat[i]:\n",
    "        count += 1\n",
    "\n",
    "accuracy = 100 * (len(predictions) - count) / len(predictions)\n",
    "print('Accuracy = %.2f' %(accuracy))\n",
    "\n"
   ]
  }
 ],
 "metadata": {
  "colab": {
   "include_colab_link": true,
   "provenance": []
  },
  "kernelspec": {
   "display_name": "Python 3 (ipykernel)",
   "language": "python",
   "name": "python3"
  },
  "language_info": {
   "codemirror_mode": {
    "name": "ipython",
    "version": 3
   },
   "file_extension": ".py",
   "mimetype": "text/x-python",
   "name": "python",
   "nbconvert_exporter": "python",
   "pygments_lexer": "ipython3",
   "version": "3.9.20"
  }
 },
 "nbformat": 4,
 "nbformat_minor": 5
}
